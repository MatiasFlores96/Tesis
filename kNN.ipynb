{
 "cells": [
  {
   "cell_type": "code",
   "execution_count": 4,
   "metadata": {},
   "outputs": [
    {
     "name": "stdout",
     "output_type": "stream",
     "text": [
      "Computing the cosine similarity matrix...\n",
      "Done computing similarity matrix.\n",
      "Computing the cosine similarity matrix...\n",
      "Done computing similarity matrix.\n",
      "Computing the cosine similarity matrix...\n",
      "Done computing similarity matrix.\n",
      "Computing the cosine similarity matrix...\n",
      "Done computing similarity matrix.\n",
      "Computing the cosine similarity matrix...\n",
      "Done computing similarity matrix.\n",
      "Evaluating RMSE, MAE of algorithm KNNBasic on 5 split(s).\n",
      "\n",
      "                  Fold 1  Fold 2  Fold 3  Fold 4  Fold 5  Mean    Std     \n",
      "RMSE (testset)    1.0191  1.0203  1.0136  1.0162  1.0139  1.0166  0.0027  \n",
      "MAE (testset)     0.8088  0.8067  0.8013  0.8043  0.8003  0.8043  0.0032  \n",
      "Fit time          1.00    1.01    1.02    1.01    1.02    1.01    0.01    \n",
      "Test time         3.12    3.14    3.08    3.18    3.11    3.13    0.03    \n"
     ]
    }
   ],
   "source": [
    "import os\n",
    "import io\n",
    "import numpy as np\n",
    "from collections import defaultdict\n",
    "\n",
    "from surprise import KNNBasic\n",
    "from surprise import Reader\n",
    "from surprise import Dataset\n",
    "from surprise import accuracy\n",
    "from surprise.model_selection import cross_validate\n",
    "\n",
    "# matplotlib inline\n",
    "import matplotlib.pyplot as plt\n",
    "\n",
    "file_path = os.path.expanduser('ml-100k/u.data')\n",
    "\n",
    "reader = Reader(line_format='user item rating timestamp', sep='\\t', rating_scale=(1, 5))\n",
    "\n",
    "data = Dataset.load_from_file(file_path, reader=reader)\n",
    "\n",
    "kk = 50\n",
    "sim_options = {'name': 'cosine', 'user_based': True}\n",
    "algo = KNNBasic(k=kk, sim_options=sim_options, verbose=True)\n",
    "\n",
    "cv = cross_validate(algo, data, measures=['RMSE', 'MAE'], cv=5, verbose=True)\n"
   ]
  },
  {
   "cell_type": "code",
   "execution_count": null,
   "metadata": {},
   "outputs": [],
   "source": []
  },
  {
   "cell_type": "code",
   "execution_count": 5,
   "metadata": {},
   "outputs": [
    {
     "data": {
      "image/png": "[encoded data removed]",
      "text/plain": [
       "<Figure size 720x360 with 1 Axes>"
      ]
     },
     "metadata": {
      "needs_background": "light"
     },
     "output_type": "display_data"
    }
   ],
   "source": [
    "rmse = cv['test_rmse']\n",
    "mae = cv['test_mae']\n",
    "x = np.arange(len(rmse))\n",
    "\n",
    "fig, ax = plt.subplots(figsize = (10, 5))\n",
    "plt.xticks(np.arange(min(x), max(x) + 1, 1.0))\n",
    "plt.ylim(0.5, 1.3)\n",
    "ax.plot(x, rmse, marker='o', label='rmse')\n",
    "ax.plot(x, mae, marker='o', label='mae')\n",
    "\n",
    "plt.title('Model Errors', fontsize=12)\n",
    "plt.xlabel('cv', fontsize=10)\n",
    "plt.ylabel('Error', fontsize=10)\n",
    "plt.legend()\n",
    "plt.show()\n"
   ]
  },
  {
   "cell_type": "code",
   "execution_count": 6,
   "metadata": {},
   "outputs": [
    {
     "name": "stdout",
     "output_type": "stream",
     "text": [
      "user: 13         item: 181        r_ui = None   est = 4.22   {'actual_k': 50, 'was_impossible': False}\n"
     ]
    }
   ],
   "source": [
    "p1 = algo.predict(uid = '13', iid = '181', verbose = True)"
   ]
  },
  {
   "cell_type": "code",
   "execution_count": 7,
   "metadata": {},
   "outputs": [
    {
     "name": "stdout",
     "output_type": "stream",
     "text": [
      "user: 196        item: 302        r_ui = 4.00   est = 4.04   {'actual_k': 50, 'was_impossible': False}\n"
     ]
    }
   ],
   "source": [
    "p2 = algo.predict(uid = '196', iid = '302', r_ui = 4, verbose = True)"
   ]
  },
  {
   "cell_type": "code",
   "execution_count": 8,
   "metadata": {},
   "outputs": [],
   "source": [
    "def read_item_names(file_path):\n",
    "    rid_to_name = {}\n",
    "    name_to_rid = {}\n",
    "    \n",
    "    with io.open(file_path, 'r', encoding = 'ISO-8859-1') as f:\n",
    "        for line in f:\n",
    "            line = line.split('|')\n",
    "            rid_to_name[line[0]] = line[1]\n",
    "            name_to_rid[line[1]] = line[0]\n",
    "    \n",
    "    return rid_to_name, name_to_rid"
   ]
  },
  {
   "cell_type": "code",
   "execution_count": 9,
   "metadata": {},
   "outputs": [],
   "source": [
    "item_filepath = 'ml-100k/u.item'\n",
    "rid_to_name, name_to_rid = read_item_names(item_filepath)"
   ]
  },
  {
   "cell_type": "code",
   "execution_count": 10,
   "metadata": {},
   "outputs": [],
   "source": [
    "target_movie = 'Toy Story (1995)'"
   ]
  },
  {
   "cell_type": "code",
   "execution_count": 11,
   "metadata": {},
   "outputs": [
    {
     "name": "stdout",
     "output_type": "stream",
     "text": [
      "Toy Story (1995): 396\n"
     ]
    }
   ],
   "source": [
    "toy_story_raw_id = name_to_rid[target_movie]\n",
    "toy_story_inner_id = algo.trainset.to_inner_iid(toy_story_raw_id)\n",
    "print(target_movie + ':', toy_story_inner_id)"
   ]
  },
  {
   "cell_type": "code",
   "execution_count": 12,
   "metadata": {},
   "outputs": [
    {
     "data": {
      "text/plain": [
       "[18, 42, 110, 207, 216, 231, 247, 267, 279, 367]"
      ]
     },
     "execution_count": 12,
     "metadata": {},
     "output_type": "execute_result"
    }
   ],
   "source": [
    "toy_story_neighbors = algo.get_neighbors(toy_story_inner_id, k = 10)\n",
    "toy_story_neighbors"
   ]
  },
  {
   "cell_type": "code",
   "execution_count": 13,
   "metadata": {},
   "outputs": [
    {
     "name": "stdout",
     "output_type": "stream",
     "text": [
      "The movies most similar to 'Toy Story (1995) are:\n",
      "83 - Much Ado About Nothing (1993)\n",
      "642 - Grifters, The (1990)\n",
      "87 - Searching for Bobby Fischer (1993)\n",
      "295 - Breakdown (1997)\n",
      "587 - Hour of the Pig, The (1993)\n",
      "547 - Young Poisoner's Handbook, The (1995)\n",
      "294 - Liar Liar (1997)\n",
      "643 - The Innocent (1994)\n",
      "478 - Philadelphia Story, The (1940)\n",
      "239 - Sneakers (1992)\n"
     ]
    }
   ],
   "source": [
    "print(\"The movies most similar to '\" + target_movie + \" are:\")\n",
    "\n",
    "for inner_id in toy_story_neighbors:\n",
    "    raw_id = algo.trainset.to_raw_iid(inner_id)\n",
    "    movie = rid_to_name[raw_id]\n",
    "    print(raw_id, '-', movie)"
   ]
  },
  {
   "cell_type": "code",
   "execution_count": 14,
   "metadata": {},
   "outputs": [],
   "source": [
    "def get_top_n(predictions, n = 10):\n",
    "    \n",
    "    top_n = defaultdict(list)\n",
    "    for uid, iid, true_r, est, _ in predictions:\n",
    "        top_n[uid].append((iid, est))\n",
    "        \n",
    "    for uid, user_ratings in top_n.items():\n",
    "        user_ratings.sort(key=lambda x: x[1], reverse=True)\n",
    "        top_n[uid] = user_ratings[:n]\n",
    "    \n",
    "    return top_n"
   ]
  },
  {
   "cell_type": "code",
   "execution_count": 15,
   "metadata": {},
   "outputs": [
    {
     "name": "stdout",
     "output_type": "stream",
     "text": [
      "Computing the cosine similarity matrix...\n",
      "Done computing similarity matrix.\n",
      "RMSE: 0.9255\n"
     ]
    },
    {
     "data": {
      "text/plain": [
       "0.9254759689787458"
      ]
     },
     "execution_count": 15,
     "metadata": {},
     "output_type": "execute_result"
    }
   ],
   "source": [
    "\n",
    "\n",
    "# Crea el train_set y test_set\n",
    "train_set = data.build_full_trainset()\n",
    "test_set = train_set.build_anti_testset()\n",
    "\n",
    "# Entrena el algoritmo KNN en todo el dataset\n",
    "algo.fit(train_set)\n",
    "predictions = algo.test(test_set)\n",
    "\n",
    "# Calcula el rmse de las predicciones\n",
    "accuracy.rmse(predictions, verbose = True)\n",
    "\n"
   ]
  },
  {
   "cell_type": "code",
   "execution_count": 16,
   "metadata": {},
   "outputs": [],
   "source": [
    "\n",
    "#Trae las mejores 10 peliculas para los usuarios que no se encuentran en el train set\n",
    "top_n = 10\n",
    "top_pred = get_top_n(predictions, n = top_n)\n",
    "\n"
   ]
  },
  {
   "cell_type": "code",
   "execution_count": 22,
   "metadata": {},
   "outputs": [
    {
     "name": "stdout",
     "output_type": "stream",
     "text": [
      "Movie: 1189 - Prefontaine (1997) , rating: 5\n",
      "Movie: 1500 - Santa with Muscles (1996) , rating: 5\n",
      "Movie: 814 - Great Day in Harlem, A (1994) , rating: 5\n",
      "Movie: 1536 - Aiqing wansui (1994) , rating: 5\n",
      "Movie: 1293 - Star Kid (1997) , rating: 5\n",
      "Movie: 1599 - Someone Else's America (1995) , rating: 5\n",
      "Movie: 1656 - Little City (1998) , rating: 5\n",
      "Movie: 1653 - Entertaining Angels: The Dorothy Day Story (1996) , rating: 5\n",
      "Movie: 1467 - Saint of Fort Washington, The (1993) , rating: 5\n",
      "Movie: 1122 - They Made Me a Criminal (1939) , rating: 5\n"
     ]
    }
   ],
   "source": [
    "\n",
    "\n",
    "# User raw Id\n",
    "uid_list = ['5']\n",
    "\n",
    "# Imprime las 10 recomendaciones de peliculas para un determinado usuario\n",
    "for uid, user_ratings in top_pred.items():\n",
    "    if uid in uid_list:\n",
    "        for (iid, rating) in user_ratings:\n",
    "            movie = rid_to_name[iid]\n",
    "            print('Movie:', iid, '-', movie, ', rating:', str(rating))\n",
    "\n"
   ]
  },
  {
   "cell_type": "code",
   "execution_count": null,
   "metadata": {},
   "outputs": [],
   "source": []
  }
 ],
 "metadata": {
  "kernelspec": {
   "display_name": "Python 3",
   "language": "python",
   "name": "python3"
  },
  "language_info": {
   "codemirror_mode": {
    "name": "ipython",
    "version": 3
   },
   "file_extension": ".py",
   "mimetype": "text/x-python",
   "name": "python",
   "nbconvert_exporter": "python",
   "pygments_lexer": "ipython3",
   "version": "3.8.2"
  }
 },
 "nbformat": 4,
 "nbformat_minor": 4
}
