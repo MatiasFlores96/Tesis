{
 "cells": [
  {
   "cell_type": "code",
   "execution_count": 39,
   "metadata": {},
   "outputs": [],
   "source": [
    "import random\n",
    "\n",
    "from surprise import SVD\n",
    "from surprise import Dataset\n",
    "from surprise import accuracy\n",
    "from surprise import Reader\n",
    "\n",
    "from surprise.model_selection import GridSearchCV"
   ]
  },
  {
   "cell_type": "code",
   "execution_count": 40,
   "metadata": {},
   "outputs": [],
   "source": [
    "# Load the Python libraries\n",
    "import os\n",
    "import pandas as pd\n",
    "import numpy as np\n",
    "from surprise.model_selection import train_test_split"
   ]
  },
  {
   "cell_type": "code",
   "execution_count": 41,
   "metadata": {},
   "outputs": [],
   "source": [
    "file_path = os.path.expanduser('~/PycharmProjects/Tesis1/ml-100k/u.data')\n",
    "\n",
    "reader = Reader(line_format='user item rating timestamp', sep='\\t', rating_scale=(1, 5))\n",
    "\n",
    "data = Dataset.load_from_file(file_path, reader=reader)"
   ]
  },
  {
   "cell_type": "code",
   "execution_count": 42,
   "metadata": {},
   "outputs": [],
   "source": [
    "\n",
    "#Asignamos los datos a una lista raw_ratings, sin indices\n",
    "raw_ratings = data.raw_ratings\n",
    "\n"
   ]
  },
  {
   "cell_type": "code",
   "execution_count": 43,
   "metadata": {},
   "outputs": [
    {
     "data": {
      "text/plain": [
       "100000"
      ]
     },
     "execution_count": 43,
     "metadata": {},
     "output_type": "execute_result"
    }
   ],
   "source": [
    "len(raw_ratings)"
   ]
  },
  {
   "cell_type": "code",
   "execution_count": 44,
   "metadata": {},
   "outputs": [],
   "source": [
    "random.shuffle(raw_ratings)"
   ]
  },
  {
   "cell_type": "code",
   "execution_count": 45,
   "metadata": {},
   "outputs": [],
   "source": [
    "# Separamos en train y test\n",
    "threshold = int(.9 * len(raw_ratings))\n",
    "train_raw_ratings = raw_ratings[:threshold]\n",
    "test_raw_ratings = raw_ratings[threshold:]\n",
    "\n",
    "data.raw_ratings = train_raw_ratings  # Reemplaza en data con los valores de entrenamiento"
   ]
  },
  {
   "cell_type": "code",
   "execution_count": 49,
   "metadata": {},
   "outputs": [
    {
     "name": "stdout",
     "output_type": "stream",
     "text": [
      "Grid Search...\n"
     ]
    }
   ],
   "source": [
    "# Utilizamos gridsearch para obetener los mejores parametros para el algoritmo seleccionado\n",
    "print('Grid Search...')\n",
    "#Poniendo \"biased\" como falso, hacemos que el algoritmo SVD se asemeje a PMF\n",
    "param_grid = {'n_factors': [50,100,150],'n_epochs':[25,50,60],'biased':[False],'lr_all': [0.01, 0.1],'reg_all':[0.02,0.1,0.5]}\n",
    "grid_search = GridSearchCV(SVD, param_grid, measures=['rmse'], cv=3,n_jobs = -1)\n",
    "grid_search.fit(data)"
   ]
  },
  {
   "cell_type": "code",
   "execution_count": 50,
   "metadata": {},
   "outputs": [
    {
     "name": "stdout",
     "output_type": "stream",
     "text": [
      "0.9417157459429343\n",
      "{'n_factors': 50, 'n_epochs': 50, 'biased': False, 'lr_all': 0.01, 'reg_all': 0.1}\n"
     ]
    }
   ],
   "source": [
    "algo = grid_search.best_estimator['rmse']\n",
    "print(grid_search.best_score['rmse'])\n",
    "print(grid_search.best_params['rmse'])"
   ]
  },
  {
   "cell_type": "code",
   "execution_count": 17,
   "metadata": {},
   "outputs": [
    {
     "name": "stdout",
     "output_type": "stream",
     "text": [
      "<surprise.prediction_algorithms.matrix_factorization.SVD object at 0x7fbbdcd91280>\n"
     ]
    }
   ],
   "source": [
    "print(algo)"
   ]
  },
  {
   "cell_type": "code",
   "execution_count": 51,
   "metadata": {},
   "outputs": [
    {
     "data": {
      "text/plain": [
       "<surprise.prediction_algorithms.matrix_factorization.SVD at 0x7f0ec8ddfdc0>"
      ]
     },
     "execution_count": 51,
     "metadata": {},
     "output_type": "execute_result"
    }
   ],
   "source": [
    "\n",
    "# Se reentrena el set de entrenamiento con el mejor conjunto de parametros obtenido\n",
    "trainset = data.build_full_trainset()\n",
    "algo.fit(trainset)"
   ]
  },
  {
   "cell_type": "code",
   "execution_count": 56,
   "metadata": {},
   "outputs": [
    {
     "name": "stdout",
     "output_type": "stream",
     "text": [
      "Accuracy on Trainset,   RMSE: 0.7130\n"
     ]
    },
    {
     "data": {
      "text/plain": [
       "0.7130467751376226"
      ]
     },
     "execution_count": 56,
     "metadata": {},
     "output_type": "execute_result"
    }
   ],
   "source": [
    "\n",
    "# Con la primer funcion creamos un set de test a partir del set de entrenamiento\n",
    "predictions = algo.test(trainset.build_testset())\n",
    "print('Accuracy on Trainset,', end='   ')\n",
    "accuracy.rmse(predictions)"
   ]
  },
  {
   "cell_type": "code",
   "execution_count": 57,
   "metadata": {},
   "outputs": [
    {
     "name": "stdout",
     "output_type": "stream",
     "text": [
      "Accuracy on Testset, RMSE: 0.9158\n"
     ]
    },
    {
     "data": {
      "text/plain": [
       "0.9157965094494755"
      ]
     },
     "execution_count": 57,
     "metadata": {},
     "output_type": "execute_result"
    }
   ],
   "source": [
    "# Prueba el modelo con el set de test\n",
    "testset = data.construct_testset(test_raw_ratings) \n",
    "predictions = algo.test(testset)\n",
    "print('Accuracy on Testset,', end=' ')\n",
    "accuracy.rmse(predictions)"
   ]
  },
  {
   "cell_type": "code",
   "execution_count": 58,
   "metadata": {},
   "outputs": [
    {
     "name": "stdout",
     "output_type": "stream",
     "text": [
      "943\n",
      "1669\n",
      "(1669, 50)\n",
      "(943, 50)\n"
     ]
    }
   ],
   "source": [
    "print(trainset.n_users)\n",
    "print(trainset.n_items)\n",
    "print(algo.qi.shape)\n",
    "print(algo.pu.shape)\n"
   ]
  },
  {
   "cell_type": "code",
   "execution_count": null,
   "metadata": {},
   "outputs": [],
   "source": []
  }
 ],
 "metadata": {
  "kernelspec": {
   "display_name": "Python 3",
   "language": "python",
   "name": "python3"
  },
  "language_info": {
   "codemirror_mode": {
    "name": "ipython",
    "version": 3
   },
   "file_extension": ".py",
   "mimetype": "text/x-python",
   "name": "python",
   "nbconvert_exporter": "python",
   "pygments_lexer": "ipython3",
   "version": "3.7.5"
  }
 },
 "nbformat": 4,
 "nbformat_minor": 4
}
